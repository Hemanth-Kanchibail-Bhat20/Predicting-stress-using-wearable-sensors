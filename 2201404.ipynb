{
 "cells": [
  {
   "cell_type": "markdown",
   "id": "9f8d54df",
   "metadata": {},
   "source": [
    "# University Trail"
   ]
  },
  {
   "cell_type": "markdown",
   "id": "88915461",
   "metadata": {},
   "source": [
    "### Importing required libraries"
   ]
  },
  {
   "cell_type": "code",
   "execution_count": 1,
   "id": "bacde0cf",
   "metadata": {},
   "outputs": [],
   "source": [
    "# Importing required libraries\n",
    "import pandas as pd \n",
    "import numpy as np\n",
    "import os\n",
    "import glob # Imported to return all file paths that match a specific pattern.\n",
    "import warnings # Imported to ignore occuring warnings \n",
    "import gc # Garbage Collection\n",
    "import seaborn as sns # Plotting\n",
    "from sklearn.model_selection import train_test_split # Split the dataset as explored and unexplored data.\n",
    "import matplotlib.pyplot as plt # Plotting\n",
    "from numpy.random import seed, randn \n",
    "from statsmodels.graphics.gofplots import qqplot # Normality check\n",
    "warnings.filterwarnings('ignore')"
   ]
  },
  {
   "cell_type": "markdown",
   "id": "25d71e4a",
   "metadata": {},
   "source": [
    "###  Loading the dataset"
   ]
  },
  {
   "cell_type": "code",
   "execution_count": 2,
   "id": "6f5b5c23",
   "metadata": {},
   "outputs": [],
   "source": [
    "# Loading the data using glob module (function used to search for files that match a specific file pattern or name).\n",
    "data = pd.DataFrame()\n",
    "folders = glob.glob(os.path.join(\"C:/Users/pc/Desktop/Data Science A2/HEMANTH/Stress-Predict-Dataset-main/Raw_data/*\"))\n",
    "\n",
    "# Looping into 35 volunteers data (folders) and loading their test results dataset\n",
    "for i in range(len(folders)):\n",
    "    files = []\n",
    "    files.append(glob.glob(folders[i] + '/*.csv'))\n",
    "    files = sum(files,[])\n",
    "    \n",
    "    #Reading Acc\n",
    "    a = pd.read_csv(files[0])\n",
    "    a['Time(sec)'] = int(float(a.columns[0])) + a.index\n",
    "    a.rename({a.columns[0]:'Acc_x',a.columns[1]:'Acc_y',a.columns[2]:'Acc_z'},axis = 1,inplace = True)\n",
    "    \n",
    "    #Reading Bvp\n",
    "    b = pd.read_csv(files[1])\n",
    "    b['Time(sec)'] = int(float(b.columns[0])) + b.index\n",
    "    b.rename({b.columns[0]:'Bvp'},axis = 1,inplace = True)\n",
    "    \n",
    "    #Reading Eda\n",
    "    c = pd.read_csv(files[2])\n",
    "    c['Time(sec)'] = int(float(c.columns[0])) + c.index\n",
    "    c.rename({c.columns[0]:'Eda'},axis = 1,inplace = True)\n",
    "    \n",
    "    #Reading HR\n",
    "    d = pd.read_csv(files[3])\n",
    "    d['Time(sec)'] = int(float(d.columns[0])) + d.index\n",
    "    d.rename({d.columns[0]:'Hr'},axis = 1,inplace = True)\n",
    "    \n",
    "    #Reading IBI\n",
    "    e = pd.read_csv(files[4])\n",
    "    e['Time(sec)'] = int(float(e.columns[0])) + e.index\n",
    "    e.rename({e.columns[0]:'Ibi_1',e.columns[1]:'Ibi_2'},axis = 1,inplace = True)\n",
    "    \n",
    "    #Reading Temp\n",
    "    f = pd.read_csv(files[6])\n",
    "    f['Time(sec)'] = int(float(f.columns[0])) + f.index\n",
    "    f.rename({f.columns[0]:'Temp'},axis = 1,inplace = True)\n",
    "    \n",
    "    #Merhing all the csv based in Time(sec), outer becaause if we do inner we losr more than half values which have null\n",
    "    new = a.merge(b,on = 'Time(sec)',how = 'outer').merge(c,on = 'Time(sec)',how = 'outer').merge(d,on = 'Time(sec)',how = 'outer').merge(e,on = 'Time(sec)',how = 'outer').merge(f,on = 'Time(sec)',how = 'outer')\n",
    "    \n",
    "    new.fillna(method = 'ffill',inplace = True)\n",
    "    new.fillna(method = 'bfill',inplace = True)\n",
    "    \n",
    "    data = data.append(new)"
   ]
  },
  {
   "cell_type": "code",
   "execution_count": 3,
   "id": "b0f3aa30",
   "metadata": {},
   "outputs": [],
   "source": [
    "import datetime\n",
    "\n",
    "#Getting datetime attribute from UNIX timestamp\n",
    "data['date'] = data['Time(sec)'].apply(lambda x: datetime.datetime.fromtimestamp(x))"
   ]
  },
  {
   "cell_type": "code",
   "execution_count": 4,
   "id": "71b98499",
   "metadata": {},
   "outputs": [
    {
     "data": {
      "text/html": [
       "<div>\n",
       "<style scoped>\n",
       "    .dataframe tbody tr th:only-of-type {\n",
       "        vertical-align: middle;\n",
       "    }\n",
       "\n",
       "    .dataframe tbody tr th {\n",
       "        vertical-align: top;\n",
       "    }\n",
       "\n",
       "    .dataframe thead th {\n",
       "        text-align: right;\n",
       "    }\n",
       "</style>\n",
       "<table border=\"1\" class=\"dataframe\">\n",
       "  <thead>\n",
       "    <tr style=\"text-align: right;\">\n",
       "      <th></th>\n",
       "      <th>Acc_x</th>\n",
       "      <th>Acc_y</th>\n",
       "      <th>Acc_z</th>\n",
       "      <th>Time(sec)</th>\n",
       "      <th>Bvp</th>\n",
       "      <th>Eda</th>\n",
       "      <th>Hr</th>\n",
       "      <th>Ibi_1</th>\n",
       "      <th>Ibi_2</th>\n",
       "      <th>Temp</th>\n",
       "      <th>date</th>\n",
       "    </tr>\n",
       "  </thead>\n",
       "  <tbody>\n",
       "    <tr>\n",
       "      <th>0</th>\n",
       "      <td>32.0</td>\n",
       "      <td>32.0</td>\n",
       "      <td>32.0</td>\n",
       "      <td>1644226061</td>\n",
       "      <td>64.0</td>\n",
       "      <td>4.000000</td>\n",
       "      <td>1.0</td>\n",
       "      <td>35.484375</td>\n",
       "      <td>0.890625</td>\n",
       "      <td>4.00</td>\n",
       "      <td>2022-02-07 09:27:41</td>\n",
       "    </tr>\n",
       "    <tr>\n",
       "      <th>1</th>\n",
       "      <td>-2.0</td>\n",
       "      <td>43.0</td>\n",
       "      <td>43.0</td>\n",
       "      <td>1644226062</td>\n",
       "      <td>0.0</td>\n",
       "      <td>0.000000</td>\n",
       "      <td>1.0</td>\n",
       "      <td>36.343750</td>\n",
       "      <td>0.859375</td>\n",
       "      <td>28.39</td>\n",
       "      <td>2022-02-07 09:27:42</td>\n",
       "    </tr>\n",
       "    <tr>\n",
       "      <th>2</th>\n",
       "      <td>-2.0</td>\n",
       "      <td>44.0</td>\n",
       "      <td>46.0</td>\n",
       "      <td>1644226063</td>\n",
       "      <td>0.0</td>\n",
       "      <td>0.112750</td>\n",
       "      <td>1.0</td>\n",
       "      <td>37.296875</td>\n",
       "      <td>0.953125</td>\n",
       "      <td>28.39</td>\n",
       "      <td>2022-02-07 09:27:43</td>\n",
       "    </tr>\n",
       "    <tr>\n",
       "      <th>3</th>\n",
       "      <td>2.0</td>\n",
       "      <td>44.0</td>\n",
       "      <td>47.0</td>\n",
       "      <td>1644226064</td>\n",
       "      <td>0.0</td>\n",
       "      <td>0.166563</td>\n",
       "      <td>1.0</td>\n",
       "      <td>38.187500</td>\n",
       "      <td>0.890625</td>\n",
       "      <td>28.39</td>\n",
       "      <td>2022-02-07 09:27:44</td>\n",
       "    </tr>\n",
       "    <tr>\n",
       "      <th>4</th>\n",
       "      <td>3.0</td>\n",
       "      <td>43.0</td>\n",
       "      <td>44.0</td>\n",
       "      <td>1644226065</td>\n",
       "      <td>0.0</td>\n",
       "      <td>0.167844</td>\n",
       "      <td>1.0</td>\n",
       "      <td>39.046875</td>\n",
       "      <td>0.859375</td>\n",
       "      <td>28.39</td>\n",
       "      <td>2022-02-07 09:27:45</td>\n",
       "    </tr>\n",
       "  </tbody>\n",
       "</table>\n",
       "</div>"
      ],
      "text/plain": [
       "   Acc_x  Acc_y  Acc_z   Time(sec)   Bvp       Eda   Hr      Ibi_1     Ibi_2  \\\n",
       "0   32.0   32.0   32.0  1644226061  64.0  4.000000  1.0  35.484375  0.890625   \n",
       "1   -2.0   43.0   43.0  1644226062   0.0  0.000000  1.0  36.343750  0.859375   \n",
       "2   -2.0   44.0   46.0  1644226063   0.0  0.112750  1.0  37.296875  0.953125   \n",
       "3    2.0   44.0   47.0  1644226064   0.0  0.166563  1.0  38.187500  0.890625   \n",
       "4    3.0   43.0   44.0  1644226065   0.0  0.167844  1.0  39.046875  0.859375   \n",
       "\n",
       "    Temp                date  \n",
       "0   4.00 2022-02-07 09:27:41  \n",
       "1  28.39 2022-02-07 09:27:42  \n",
       "2  28.39 2022-02-07 09:27:43  \n",
       "3  28.39 2022-02-07 09:27:44  \n",
       "4  28.39 2022-02-07 09:27:45  "
      ]
     },
     "execution_count": 4,
     "metadata": {},
     "output_type": "execute_result"
    }
   ],
   "source": [
    "data.head()"
   ]
  },
  {
   "cell_type": "code",
   "execution_count": 5,
   "id": "02397ecd",
   "metadata": {},
   "outputs": [
    {
     "data": {
      "text/plain": [
       "(7428225, 11)"
      ]
     },
     "execution_count": 5,
     "metadata": {},
     "output_type": "execute_result"
    }
   ],
   "source": [
    "# Determine the shape of the DataFrame \n",
    "data.shape"
   ]
  },
  {
   "cell_type": "code",
   "execution_count": 6,
   "id": "cd7d19ac",
   "metadata": {},
   "outputs": [
    {
     "data": {
      "text/plain": [
       "Index(['Acc_x', 'Acc_y', 'Acc_z', 'Time(sec)', 'Bvp', 'Eda', 'Hr', 'Ibi_1',\n",
       "       'Ibi_2', 'Temp', 'date'],\n",
       "      dtype='object')"
      ]
     },
     "execution_count": 6,
     "metadata": {},
     "output_type": "execute_result"
    }
   ],
   "source": [
    "data.columns"
   ]
  },
  {
   "cell_type": "code",
   "execution_count": 7,
   "id": "e01a667c",
   "metadata": {},
   "outputs": [
    {
     "data": {
      "text/plain": [
       "Acc_x               float64\n",
       "Acc_y               float64\n",
       "Acc_z               float64\n",
       "Time(sec)             int64\n",
       "Bvp                 float64\n",
       "Eda                 float64\n",
       "Hr                  float64\n",
       "Ibi_1               float64\n",
       "Ibi_2               float64\n",
       "Temp                float64\n",
       "date         datetime64[ns]\n",
       "dtype: object"
      ]
     },
     "execution_count": 7,
     "metadata": {},
     "output_type": "execute_result"
    }
   ],
   "source": [
    "data.dtypes"
   ]
  },
  {
   "cell_type": "code",
   "execution_count": 8,
   "id": "847d3674",
   "metadata": {},
   "outputs": [
    {
     "data": {
      "text/html": [
       "<div>\n",
       "<style scoped>\n",
       "    .dataframe tbody tr th:only-of-type {\n",
       "        vertical-align: middle;\n",
       "    }\n",
       "\n",
       "    .dataframe tbody tr th {\n",
       "        vertical-align: top;\n",
       "    }\n",
       "\n",
       "    .dataframe thead th {\n",
       "        text-align: right;\n",
       "    }\n",
       "</style>\n",
       "<table border=\"1\" class=\"dataframe\">\n",
       "  <thead>\n",
       "    <tr style=\"text-align: right;\">\n",
       "      <th></th>\n",
       "      <th>Acc_x</th>\n",
       "      <th>Acc_y</th>\n",
       "      <th>Acc_z</th>\n",
       "      <th>Time(sec)</th>\n",
       "      <th>Bvp</th>\n",
       "      <th>Eda</th>\n",
       "      <th>Hr</th>\n",
       "      <th>Ibi_1</th>\n",
       "      <th>Ibi_2</th>\n",
       "      <th>Temp</th>\n",
       "    </tr>\n",
       "  </thead>\n",
       "  <tbody>\n",
       "    <tr>\n",
       "      <th>count</th>\n",
       "      <td>7.428225e+06</td>\n",
       "      <td>7.428225e+06</td>\n",
       "      <td>7.428225e+06</td>\n",
       "      <td>7.428225e+06</td>\n",
       "      <td>7.428225e+06</td>\n",
       "      <td>7.428225e+06</td>\n",
       "      <td>7.428225e+06</td>\n",
       "      <td>7.428225e+06</td>\n",
       "      <td>7.428225e+06</td>\n",
       "      <td>7.428225e+06</td>\n",
       "    </tr>\n",
       "    <tr>\n",
       "      <th>mean</th>\n",
       "      <td>-1.820556e+01</td>\n",
       "      <td>-8.556537e-01</td>\n",
       "      <td>4.588584e+01</td>\n",
       "      <td>1.645756e+09</td>\n",
       "      <td>2.438605e-03</td>\n",
       "      <td>5.542039e-01</td>\n",
       "      <td>7.663505e+01</td>\n",
       "      <td>3.183453e+03</td>\n",
       "      <td>8.422947e-01</td>\n",
       "      <td>3.038850e+01</td>\n",
       "    </tr>\n",
       "    <tr>\n",
       "      <th>std</th>\n",
       "      <td>2.940956e+01</td>\n",
       "      <td>1.743744e+01</td>\n",
       "      <td>2.238250e+01</td>\n",
       "      <td>8.438921e+05</td>\n",
       "      <td>7.165202e+01</td>\n",
       "      <td>6.932219e-01</td>\n",
       "      <td>1.330808e+01</td>\n",
       "      <td>2.599010e+02</td>\n",
       "      <td>1.752937e-01</td>\n",
       "      <td>2.633649e+00</td>\n",
       "    </tr>\n",
       "    <tr>\n",
       "      <th>min</th>\n",
       "      <td>-1.280000e+02</td>\n",
       "      <td>-1.280000e+02</td>\n",
       "      <td>-1.280000e+02</td>\n",
       "      <td>1.644226e+09</td>\n",
       "      <td>-2.751640e+03</td>\n",
       "      <td>0.000000e+00</td>\n",
       "      <td>1.000000e+00</td>\n",
       "      <td>1.148438e+01</td>\n",
       "      <td>3.125000e-01</td>\n",
       "      <td>4.000000e+00</td>\n",
       "    </tr>\n",
       "    <tr>\n",
       "      <th>25%</th>\n",
       "      <td>-4.100000e+01</td>\n",
       "      <td>-7.000000e+00</td>\n",
       "      <td>3.600000e+01</td>\n",
       "      <td>1.644980e+09</td>\n",
       "      <td>-1.461000e+01</td>\n",
       "      <td>1.412130e-01</td>\n",
       "      <td>6.575000e+01</td>\n",
       "      <td>3.092406e+03</td>\n",
       "      <td>7.187500e-01</td>\n",
       "      <td>2.875000e+01</td>\n",
       "    </tr>\n",
       "    <tr>\n",
       "      <th>50%</th>\n",
       "      <td>-1.900000e+01</td>\n",
       "      <td>1.000000e+00</td>\n",
       "      <td>5.600000e+01</td>\n",
       "      <td>1.645646e+09</td>\n",
       "      <td>1.210000e+00</td>\n",
       "      <td>2.987990e-01</td>\n",
       "      <td>7.402000e+01</td>\n",
       "      <td>3.252688e+03</td>\n",
       "      <td>8.281250e-01</td>\n",
       "      <td>3.059000e+01</td>\n",
       "    </tr>\n",
       "    <tr>\n",
       "      <th>75%</th>\n",
       "      <td>1.000000e+00</td>\n",
       "      <td>8.000000e+00</td>\n",
       "      <td>6.100000e+01</td>\n",
       "      <td>1.646670e+09</td>\n",
       "      <td>1.546000e+01</td>\n",
       "      <td>7.333020e-01</td>\n",
       "      <td>8.582000e+01</td>\n",
       "      <td>3.313234e+03</td>\n",
       "      <td>9.531250e-01</td>\n",
       "      <td>3.167000e+01</td>\n",
       "    </tr>\n",
       "    <tr>\n",
       "      <th>max</th>\n",
       "      <td>1.270000e+02</td>\n",
       "      <td>1.270000e+02</td>\n",
       "      <td>1.270000e+02</td>\n",
       "      <td>1.647065e+09</td>\n",
       "      <td>2.102490e+03</td>\n",
       "      <td>1.100507e+01</td>\n",
       "      <td>1.467800e+02</td>\n",
       "      <td>3.542312e+03</td>\n",
       "      <td>1.703125e+00</td>\n",
       "      <td>3.639000e+01</td>\n",
       "    </tr>\n",
       "  </tbody>\n",
       "</table>\n",
       "</div>"
      ],
      "text/plain": [
       "              Acc_x         Acc_y         Acc_z     Time(sec)           Bvp  \\\n",
       "count  7.428225e+06  7.428225e+06  7.428225e+06  7.428225e+06  7.428225e+06   \n",
       "mean  -1.820556e+01 -8.556537e-01  4.588584e+01  1.645756e+09  2.438605e-03   \n",
       "std    2.940956e+01  1.743744e+01  2.238250e+01  8.438921e+05  7.165202e+01   \n",
       "min   -1.280000e+02 -1.280000e+02 -1.280000e+02  1.644226e+09 -2.751640e+03   \n",
       "25%   -4.100000e+01 -7.000000e+00  3.600000e+01  1.644980e+09 -1.461000e+01   \n",
       "50%   -1.900000e+01  1.000000e+00  5.600000e+01  1.645646e+09  1.210000e+00   \n",
       "75%    1.000000e+00  8.000000e+00  6.100000e+01  1.646670e+09  1.546000e+01   \n",
       "max    1.270000e+02  1.270000e+02  1.270000e+02  1.647065e+09  2.102490e+03   \n",
       "\n",
       "                Eda            Hr         Ibi_1         Ibi_2          Temp  \n",
       "count  7.428225e+06  7.428225e+06  7.428225e+06  7.428225e+06  7.428225e+06  \n",
       "mean   5.542039e-01  7.663505e+01  3.183453e+03  8.422947e-01  3.038850e+01  \n",
       "std    6.932219e-01  1.330808e+01  2.599010e+02  1.752937e-01  2.633649e+00  \n",
       "min    0.000000e+00  1.000000e+00  1.148438e+01  3.125000e-01  4.000000e+00  \n",
       "25%    1.412130e-01  6.575000e+01  3.092406e+03  7.187500e-01  2.875000e+01  \n",
       "50%    2.987990e-01  7.402000e+01  3.252688e+03  8.281250e-01  3.059000e+01  \n",
       "75%    7.333020e-01  8.582000e+01  3.313234e+03  9.531250e-01  3.167000e+01  \n",
       "max    1.100507e+01  1.467800e+02  3.542312e+03  1.703125e+00  3.639000e+01  "
      ]
     },
     "execution_count": 8,
     "metadata": {},
     "output_type": "execute_result"
    }
   ],
   "source": [
    "# Obtain the summary statistics for numerical columns in our DataFrame.\n",
    "data.describe()"
   ]
  },
  {
   "cell_type": "code",
   "execution_count": 9,
   "id": "e108ac20",
   "metadata": {},
   "outputs": [
    {
     "data": {
      "text/plain": [
       "Acc_x        0\n",
       "Acc_y        0\n",
       "Acc_z        0\n",
       "Time(sec)    0\n",
       "Bvp          0\n",
       "Eda          0\n",
       "Hr           0\n",
       "Ibi_1        0\n",
       "Ibi_2        0\n",
       "Temp         0\n",
       "date         0\n",
       "dtype: int64"
      ]
     },
     "execution_count": 9,
     "metadata": {},
     "output_type": "execute_result"
    }
   ],
   "source": [
    "# Check for null values.\n",
    "data.isnull().sum()"
   ]
  },
  {
   "cell_type": "code",
   "execution_count": 10,
   "id": "55896661",
   "metadata": {},
   "outputs": [
    {
     "data": {
      "text/plain": [
       "0"
      ]
     },
     "execution_count": 10,
     "metadata": {},
     "output_type": "execute_result"
    }
   ],
   "source": [
    "# Check for duplicate values.\n",
    "data.duplicated().sum()"
   ]
  },
  {
   "cell_type": "markdown",
   "id": "f2cc2463",
   "metadata": {},
   "source": [
    "# Merging with preprocessed to get the Label"
   ]
  },
  {
   "cell_type": "code",
   "execution_count": 11,
   "id": "b7c9033b",
   "metadata": {},
   "outputs": [],
   "source": [
    "#Processed data to get the Labe;\n",
    "processed = pd.read_csv(r\"C:\\Users\\pc\\Desktop\\Data Science A2\\HEMANTH\\Stress-Predict-Dataset-main\\Processed_data\\Improved_All_Combined_hr_rsp_binary.csv\")"
   ]
  },
  {
   "cell_type": "code",
   "execution_count": 12,
   "id": "c074cd8d",
   "metadata": {},
   "outputs": [
    {
     "data": {
      "text/html": [
       "<div>\n",
       "<style scoped>\n",
       "    .dataframe tbody tr th:only-of-type {\n",
       "        vertical-align: middle;\n",
       "    }\n",
       "\n",
       "    .dataframe tbody tr th {\n",
       "        vertical-align: top;\n",
       "    }\n",
       "\n",
       "    .dataframe thead th {\n",
       "        text-align: right;\n",
       "    }\n",
       "</style>\n",
       "<table border=\"1\" class=\"dataframe\">\n",
       "  <thead>\n",
       "    <tr style=\"text-align: right;\">\n",
       "      <th></th>\n",
       "      <th>Participant</th>\n",
       "      <th>HR</th>\n",
       "      <th>respr</th>\n",
       "      <th>Time(sec)</th>\n",
       "      <th>Label</th>\n",
       "    </tr>\n",
       "  </thead>\n",
       "  <tbody>\n",
       "    <tr>\n",
       "      <th>0</th>\n",
       "      <td>2</td>\n",
       "      <td>118.00</td>\n",
       "      <td>12.127693</td>\n",
       "      <td>1644227583</td>\n",
       "      <td>0</td>\n",
       "    </tr>\n",
       "    <tr>\n",
       "      <th>1</th>\n",
       "      <td>2</td>\n",
       "      <td>113.50</td>\n",
       "      <td>12.127693</td>\n",
       "      <td>1644227584</td>\n",
       "      <td>0</td>\n",
       "    </tr>\n",
       "    <tr>\n",
       "      <th>2</th>\n",
       "      <td>2</td>\n",
       "      <td>93.00</td>\n",
       "      <td>12.127693</td>\n",
       "      <td>1644227585</td>\n",
       "      <td>0</td>\n",
       "    </tr>\n",
       "    <tr>\n",
       "      <th>3</th>\n",
       "      <td>2</td>\n",
       "      <td>93.25</td>\n",
       "      <td>12.127693</td>\n",
       "      <td>1644227586</td>\n",
       "      <td>0</td>\n",
       "    </tr>\n",
       "    <tr>\n",
       "      <th>4</th>\n",
       "      <td>2</td>\n",
       "      <td>86.40</td>\n",
       "      <td>12.127693</td>\n",
       "      <td>1644227587</td>\n",
       "      <td>0</td>\n",
       "    </tr>\n",
       "  </tbody>\n",
       "</table>\n",
       "</div>"
      ],
      "text/plain": [
       "   Participant      HR      respr   Time(sec)  Label\n",
       "0            2  118.00  12.127693  1644227583      0\n",
       "1            2  113.50  12.127693  1644227584      0\n",
       "2            2   93.00  12.127693  1644227585      0\n",
       "3            2   93.25  12.127693  1644227586      0\n",
       "4            2   86.40  12.127693  1644227587      0"
      ]
     },
     "execution_count": 12,
     "metadata": {},
     "output_type": "execute_result"
    }
   ],
   "source": [
    "processed.head()"
   ]
  },
  {
   "cell_type": "code",
   "execution_count": 13,
   "id": "49166ff1",
   "metadata": {},
   "outputs": [],
   "source": [
    "#Merging based on Time(sec) to get the label\n",
    "data = data.merge(processed[['Time(sec)','Label']],on = 'Time(sec)',how = 'inner')"
   ]
  },
  {
   "cell_type": "code",
   "execution_count": 14,
   "id": "c4a9803d",
   "metadata": {},
   "outputs": [
    {
     "data": {
      "text/html": [
       "<div>\n",
       "<style scoped>\n",
       "    .dataframe tbody tr th:only-of-type {\n",
       "        vertical-align: middle;\n",
       "    }\n",
       "\n",
       "    .dataframe tbody tr th {\n",
       "        vertical-align: top;\n",
       "    }\n",
       "\n",
       "    .dataframe thead th {\n",
       "        text-align: right;\n",
       "    }\n",
       "</style>\n",
       "<table border=\"1\" class=\"dataframe\">\n",
       "  <thead>\n",
       "    <tr style=\"text-align: right;\">\n",
       "      <th></th>\n",
       "      <th>Acc_x</th>\n",
       "      <th>Acc_y</th>\n",
       "      <th>Acc_z</th>\n",
       "      <th>Time(sec)</th>\n",
       "      <th>Bvp</th>\n",
       "      <th>Eda</th>\n",
       "      <th>Hr</th>\n",
       "      <th>Ibi_1</th>\n",
       "      <th>Ibi_2</th>\n",
       "      <th>Temp</th>\n",
       "      <th>date</th>\n",
       "      <th>Label</th>\n",
       "    </tr>\n",
       "  </thead>\n",
       "  <tbody>\n",
       "    <tr>\n",
       "      <th>0</th>\n",
       "      <td>-17.0</td>\n",
       "      <td>17.0</td>\n",
       "      <td>59.0</td>\n",
       "      <td>1644227583</td>\n",
       "      <td>-12.38</td>\n",
       "      <td>0.231907</td>\n",
       "      <td>69.52</td>\n",
       "      <td>2856.468750</td>\n",
       "      <td>1.21875</td>\n",
       "      <td>28.47</td>\n",
       "      <td>2022-02-07 09:53:03</td>\n",
       "      <td>0</td>\n",
       "    </tr>\n",
       "    <tr>\n",
       "      <th>1</th>\n",
       "      <td>-12.0</td>\n",
       "      <td>10.0</td>\n",
       "      <td>69.0</td>\n",
       "      <td>1644227583</td>\n",
       "      <td>-0.00</td>\n",
       "      <td>0.667881</td>\n",
       "      <td>1.00</td>\n",
       "      <td>684.953125</td>\n",
       "      <td>0.81250</td>\n",
       "      <td>34.79</td>\n",
       "      <td>2022-02-07 09:53:03</td>\n",
       "      <td>0</td>\n",
       "    </tr>\n",
       "    <tr>\n",
       "      <th>2</th>\n",
       "      <td>-16.0</td>\n",
       "      <td>17.0</td>\n",
       "      <td>59.0</td>\n",
       "      <td>1644227584</td>\n",
       "      <td>-7.21</td>\n",
       "      <td>0.233188</td>\n",
       "      <td>68.98</td>\n",
       "      <td>2856.468750</td>\n",
       "      <td>1.21875</td>\n",
       "      <td>28.47</td>\n",
       "      <td>2022-02-07 09:53:04</td>\n",
       "      <td>0</td>\n",
       "    </tr>\n",
       "    <tr>\n",
       "      <th>3</th>\n",
       "      <td>-9.0</td>\n",
       "      <td>11.0</td>\n",
       "      <td>72.0</td>\n",
       "      <td>1644227584</td>\n",
       "      <td>-0.00</td>\n",
       "      <td>0.660192</td>\n",
       "      <td>1.00</td>\n",
       "      <td>718.156250</td>\n",
       "      <td>0.71875</td>\n",
       "      <td>34.79</td>\n",
       "      <td>2022-02-07 09:53:04</td>\n",
       "      <td>0</td>\n",
       "    </tr>\n",
       "    <tr>\n",
       "      <th>4</th>\n",
       "      <td>-16.0</td>\n",
       "      <td>17.0</td>\n",
       "      <td>59.0</td>\n",
       "      <td>1644227585</td>\n",
       "      <td>-1.68</td>\n",
       "      <td>0.233188</td>\n",
       "      <td>68.42</td>\n",
       "      <td>2856.468750</td>\n",
       "      <td>1.21875</td>\n",
       "      <td>28.47</td>\n",
       "      <td>2022-02-07 09:53:05</td>\n",
       "      <td>0</td>\n",
       "    </tr>\n",
       "  </tbody>\n",
       "</table>\n",
       "</div>"
      ],
      "text/plain": [
       "   Acc_x  Acc_y  Acc_z   Time(sec)    Bvp       Eda     Hr        Ibi_1  \\\n",
       "0  -17.0   17.0   59.0  1644227583 -12.38  0.231907  69.52  2856.468750   \n",
       "1  -12.0   10.0   69.0  1644227583  -0.00  0.667881   1.00   684.953125   \n",
       "2  -16.0   17.0   59.0  1644227584  -7.21  0.233188  68.98  2856.468750   \n",
       "3   -9.0   11.0   72.0  1644227584  -0.00  0.660192   1.00   718.156250   \n",
       "4  -16.0   17.0   59.0  1644227585  -1.68  0.233188  68.42  2856.468750   \n",
       "\n",
       "     Ibi_2   Temp                date  Label  \n",
       "0  1.21875  28.47 2022-02-07 09:53:03      0  \n",
       "1  0.81250  34.79 2022-02-07 09:53:03      0  \n",
       "2  1.21875  28.47 2022-02-07 09:53:04      0  \n",
       "3  0.71875  34.79 2022-02-07 09:53:04      0  \n",
       "4  1.21875  28.47 2022-02-07 09:53:05      0  "
      ]
     },
     "execution_count": 14,
     "metadata": {},
     "output_type": "execute_result"
    }
   ],
   "source": [
    "data.head()"
   ]
  },
  {
   "cell_type": "markdown",
   "id": "d77250f0",
   "metadata": {},
   "source": [
    "# Checking balance of data for 0 and 1 ratio"
   ]
  },
  {
   "cell_type": "code",
   "execution_count": 15,
   "id": "dffe19f0",
   "metadata": {},
   "outputs": [
    {
     "data": {
      "text/plain": [
       "0    345509\n",
       "1    163517\n",
       "Name: Label, dtype: int64"
      ]
     },
     "execution_count": 15,
     "metadata": {},
     "output_type": "execute_result"
    }
   ],
   "source": [
    "#count of imbalanced data\n",
    "data['Label'].value_counts()"
   ]
  },
  {
   "cell_type": "code",
   "execution_count": 16,
   "id": "a171a417",
   "metadata": {},
   "outputs": [
    {
     "data": {
      "text/plain": [
       "<AxesSubplot:xlabel='Label', ylabel='count'>"
      ]
     },
     "execution_count": 16,
     "metadata": {},
     "output_type": "execute_result"
    },
    {
     "data": {
      "image/png": "[encoded data removed]",
      "text/plain": [
       "<Figure size 432x288 with 1 Axes>"
      ]
     },
     "metadata": {
      "needs_background": "light"
     },
     "output_type": "display_data"
    }
   ],
   "source": [
    "#Seaborn visulization of imbalanced data\n",
    "sns.countplot(data['Label'])"
   ]
  },
  {
   "cell_type": "markdown",
   "id": "ad0837f2",
   "metadata": {},
   "source": [
    "# Resampling to handle the imbalanced data"
   ]
  },
  {
   "cell_type": "code",
   "execution_count": 17,
   "id": "46609d2a",
   "metadata": {},
   "outputs": [],
   "source": [
    "#manual Balance of data by random choice of majority class to match the minority class\n",
    "\n",
    "class0 = np.where(data['Label'] == 0)[0]\n",
    "class1 =np.where(data['Label'] == 1)[0]\n",
    "\n",
    "#downsampled index of random choice for 0 from dataset\n",
    "class0_downsampled = np.random.choice(class0, size=class1.shape[0], replace=False)\n",
    "\n",
    "#All index of balanced 1 and 0\n",
    "resampled_index = np.hstack((class1 ,class0_downsampled))"
   ]
  },
  {
   "cell_type": "code",
   "execution_count": 18,
   "id": "89f8063c",
   "metadata": {},
   "outputs": [],
   "source": [
    "data = data.iloc[resampled_index]"
   ]
  },
  {
   "cell_type": "code",
   "execution_count": 19,
   "id": "39aecd7f",
   "metadata": {},
   "outputs": [],
   "source": [
    "data.reset_index(inplace = True,drop = True)"
   ]
  },
  {
   "cell_type": "code",
   "execution_count": 20,
   "id": "b30ef925",
   "metadata": {},
   "outputs": [
    {
     "data": {
      "text/html": [
       "<div>\n",
       "<style scoped>\n",
       "    .dataframe tbody tr th:only-of-type {\n",
       "        vertical-align: middle;\n",
       "    }\n",
       "\n",
       "    .dataframe tbody tr th {\n",
       "        vertical-align: top;\n",
       "    }\n",
       "\n",
       "    .dataframe thead th {\n",
       "        text-align: right;\n",
       "    }\n",
       "</style>\n",
       "<table border=\"1\" class=\"dataframe\">\n",
       "  <thead>\n",
       "    <tr style=\"text-align: right;\">\n",
       "      <th></th>\n",
       "      <th>Acc_x</th>\n",
       "      <th>Acc_y</th>\n",
       "      <th>Acc_z</th>\n",
       "      <th>Time(sec)</th>\n",
       "      <th>Bvp</th>\n",
       "      <th>Eda</th>\n",
       "      <th>Hr</th>\n",
       "      <th>Ibi_1</th>\n",
       "      <th>Ibi_2</th>\n",
       "      <th>Temp</th>\n",
       "      <th>date</th>\n",
       "      <th>Label</th>\n",
       "    </tr>\n",
       "  </thead>\n",
       "  <tbody>\n",
       "    <tr>\n",
       "      <th>0</th>\n",
       "      <td>-15.0</td>\n",
       "      <td>16.0</td>\n",
       "      <td>59.0</td>\n",
       "      <td>1644228196</td>\n",
       "      <td>8.82</td>\n",
       "      <td>0.267782</td>\n",
       "      <td>75.18</td>\n",
       "      <td>2856.468750</td>\n",
       "      <td>1.218750</td>\n",
       "      <td>28.63</td>\n",
       "      <td>2022-02-07 10:03:16</td>\n",
       "      <td>1</td>\n",
       "    </tr>\n",
       "    <tr>\n",
       "      <th>1</th>\n",
       "      <td>-61.0</td>\n",
       "      <td>-19.0</td>\n",
       "      <td>-1.0</td>\n",
       "      <td>1644228196</td>\n",
       "      <td>39.46</td>\n",
       "      <td>0.266800</td>\n",
       "      <td>70.32</td>\n",
       "      <td>3448.484375</td>\n",
       "      <td>0.953125</td>\n",
       "      <td>35.66</td>\n",
       "      <td>2022-02-07 10:03:16</td>\n",
       "      <td>1</td>\n",
       "    </tr>\n",
       "    <tr>\n",
       "      <th>2</th>\n",
       "      <td>-16.0</td>\n",
       "      <td>17.0</td>\n",
       "      <td>59.0</td>\n",
       "      <td>1644228197</td>\n",
       "      <td>7.98</td>\n",
       "      <td>0.267782</td>\n",
       "      <td>75.10</td>\n",
       "      <td>2856.468750</td>\n",
       "      <td>1.218750</td>\n",
       "      <td>28.63</td>\n",
       "      <td>2022-02-07 10:03:17</td>\n",
       "      <td>1</td>\n",
       "    </tr>\n",
       "    <tr>\n",
       "      <th>3</th>\n",
       "      <td>-61.0</td>\n",
       "      <td>-20.0</td>\n",
       "      <td>-2.0</td>\n",
       "      <td>1644228197</td>\n",
       "      <td>42.95</td>\n",
       "      <td>0.265518</td>\n",
       "      <td>70.35</td>\n",
       "      <td>3448.484375</td>\n",
       "      <td>0.953125</td>\n",
       "      <td>35.66</td>\n",
       "      <td>2022-02-07 10:03:17</td>\n",
       "      <td>1</td>\n",
       "    </tr>\n",
       "    <tr>\n",
       "      <th>4</th>\n",
       "      <td>-15.0</td>\n",
       "      <td>17.0</td>\n",
       "      <td>60.0</td>\n",
       "      <td>1644228198</td>\n",
       "      <td>7.43</td>\n",
       "      <td>0.267782</td>\n",
       "      <td>75.03</td>\n",
       "      <td>2856.468750</td>\n",
       "      <td>1.218750</td>\n",
       "      <td>28.65</td>\n",
       "      <td>2022-02-07 10:03:18</td>\n",
       "      <td>1</td>\n",
       "    </tr>\n",
       "  </tbody>\n",
       "</table>\n",
       "</div>"
      ],
      "text/plain": [
       "   Acc_x  Acc_y  Acc_z   Time(sec)    Bvp       Eda     Hr        Ibi_1  \\\n",
       "0  -15.0   16.0   59.0  1644228196   8.82  0.267782  75.18  2856.468750   \n",
       "1  -61.0  -19.0   -1.0  1644228196  39.46  0.266800  70.32  3448.484375   \n",
       "2  -16.0   17.0   59.0  1644228197   7.98  0.267782  75.10  2856.468750   \n",
       "3  -61.0  -20.0   -2.0  1644228197  42.95  0.265518  70.35  3448.484375   \n",
       "4  -15.0   17.0   60.0  1644228198   7.43  0.267782  75.03  2856.468750   \n",
       "\n",
       "      Ibi_2   Temp                date  Label  \n",
       "0  1.218750  28.63 2022-02-07 10:03:16      1  \n",
       "1  0.953125  35.66 2022-02-07 10:03:16      1  \n",
       "2  1.218750  28.63 2022-02-07 10:03:17      1  \n",
       "3  0.953125  35.66 2022-02-07 10:03:17      1  \n",
       "4  1.218750  28.65 2022-02-07 10:03:18      1  "
      ]
     },
     "execution_count": 20,
     "metadata": {},
     "output_type": "execute_result"
    }
   ],
   "source": [
    "data.head()"
   ]
  },
  {
   "cell_type": "code",
   "execution_count": 21,
   "id": "88f96f5b",
   "metadata": {},
   "outputs": [
    {
     "data": {
      "text/plain": [
       "1    163517\n",
       "0    163517\n",
       "Name: Label, dtype: int64"
      ]
     },
     "execution_count": 21,
     "metadata": {},
     "output_type": "execute_result"
    }
   ],
   "source": [
    "data['Label'].value_counts()"
   ]
  },
  {
   "cell_type": "code",
   "execution_count": 22,
   "id": "4c43e966",
   "metadata": {},
   "outputs": [
    {
     "data": {
      "text/plain": [
       "<AxesSubplot:xlabel='Label', ylabel='count'>"
      ]
     },
     "execution_count": 22,
     "metadata": {},
     "output_type": "execute_result"
    },
    {
     "data": {
      "image/png": "[encoded data removed]",
      "text/plain": [
       "<Figure size 432x288 with 1 Axes>"
      ]
     },
     "metadata": {
      "needs_background": "light"
     },
     "output_type": "display_data"
    }
   ],
   "source": [
    "#Countplot after balancing the data\n",
    "sns.countplot(data['Label'])"
   ]
  },
  {
   "cell_type": "code",
   "execution_count": 23,
   "id": "e8e12646",
   "metadata": {},
   "outputs": [
    {
     "data": {
      "text/plain": [
       "array([[<AxesSubplot:title={'center':'Acc_x'}>,\n",
       "        <AxesSubplot:title={'center':'Acc_y'}>,\n",
       "        <AxesSubplot:title={'center':'Acc_z'}>],\n",
       "       [<AxesSubplot:title={'center':'Time(sec)'}>,\n",
       "        <AxesSubplot:title={'center':'Bvp'}>,\n",
       "        <AxesSubplot:title={'center':'Eda'}>],\n",
       "       [<AxesSubplot:title={'center':'Hr'}>,\n",
       "        <AxesSubplot:title={'center':'Ibi_1'}>,\n",
       "        <AxesSubplot:title={'center':'Ibi_2'}>],\n",
       "       [<AxesSubplot:title={'center':'Temp'}>,\n",
       "        <AxesSubplot:title={'center':'date'}>,\n",
       "        <AxesSubplot:title={'center':'Label'}>]], dtype=object)"
      ]
     },
     "execution_count": 23,
     "metadata": {},
     "output_type": "execute_result"
    },
    {
     "data": {
      "image/png": "[encoded data removed]",
      "text/plain": [
       "<Figure size 1080x1080 with 12 Axes>"
      ]
     },
     "metadata": {
      "needs_background": "light"
     },
     "output_type": "display_data"
    }
   ],
   "source": [
    "#checking if the data is skewed or not\n",
    "data.hist(figsize = (15,15))"
   ]
  },
  {
   "cell_type": "markdown",
   "id": "dc5937eb",
   "metadata": {},
   "source": [
    "# Time series representation of the data exploration"
   ]
  },
  {
   "cell_type": "code",
   "execution_count": 24,
   "id": "fc49d5bb",
   "metadata": {},
   "outputs": [
    {
     "data": {
      "image/png": "[encoded data removed]",
      "text/plain": [
       "<Figure size 720x360 with 1 Axes>"
      ]
     },
     "metadata": {
      "needs_background": "light"
     },
     "output_type": "display_data"
    }
   ],
   "source": [
    "# Create plot\n",
    "fig, ax = plt.subplots(figsize=(10, 5))\n",
    "ax.plot(data.date, data['Acc_x'])\n",
    "\n",
    "# Set plot title and axis labels\n",
    "ax.set_title('Time Series Plot')\n",
    "ax.set_xlabel('Date')\n",
    "ax.set_ylabel('Values')\n",
    "\n",
    "# Show plot\n",
    "plt.show()"
   ]
  },
  {
   "cell_type": "code",
   "execution_count": 25,
   "id": "aaf7b52b",
   "metadata": {},
   "outputs": [
    {
     "data": {
      "image/png": "[encoded data removed]",
      "text/plain": [
       "<Figure size 720x360 with 1 Axes>"
      ]
     },
     "metadata": {
      "needs_background": "light"
     },
     "output_type": "display_data"
    }
   ],
   "source": [
    "# Create plot\n",
    "fig, ax = plt.subplots(figsize=(10, 5))\n",
    "ax.plot(data.date, data['Bvp'])\n",
    "\n",
    "# Set plot title and axis labels\n",
    "ax.set_title('Time Series Plot')\n",
    "ax.set_xlabel('Date')\n",
    "ax.set_ylabel('Values')\n",
    "\n",
    "# Show plot\n",
    "plt.show()"
   ]
  },
  {
   "cell_type": "code",
   "execution_count": null,
   "id": "776983c4",
   "metadata": {},
   "outputs": [],
   "source": []
  },
  {
   "cell_type": "markdown",
   "id": "ccf438b9",
   "metadata": {},
   "source": [
    "### Split  subset of data separate from the exploration to avoid overfitting."
   ]
  },
  {
   "cell_type": "code",
   "execution_count": 26,
   "id": "4b28aaae",
   "metadata": {},
   "outputs": [],
   "source": [
    "# Split data by taking 20% as test data and 80% for further exploration.\n",
    "explore_data, unexplore_data = train_test_split(data, test_size=0.2, random_state=25)"
   ]
  },
  {
   "cell_type": "markdown",
   "id": "94c66c60",
   "metadata": {},
   "source": [
    "### Create and assign values into the target column  "
   ]
  },
  {
   "cell_type": "code",
   "execution_count": 30,
   "id": "43368f5f",
   "metadata": {},
   "outputs": [
    {
     "data": {
      "text/html": [
       "<div>\n",
       "<style scoped>\n",
       "    .dataframe tbody tr th:only-of-type {\n",
       "        vertical-align: middle;\n",
       "    }\n",
       "\n",
       "    .dataframe tbody tr th {\n",
       "        vertical-align: top;\n",
       "    }\n",
       "\n",
       "    .dataframe thead th {\n",
       "        text-align: right;\n",
       "    }\n",
       "</style>\n",
       "<table border=\"1\" class=\"dataframe\">\n",
       "  <thead>\n",
       "    <tr style=\"text-align: right;\">\n",
       "      <th></th>\n",
       "      <th>Acc_x</th>\n",
       "      <th>Acc_y</th>\n",
       "      <th>Acc_z</th>\n",
       "      <th>Time(sec)</th>\n",
       "      <th>Bvp</th>\n",
       "      <th>Eda</th>\n",
       "      <th>Hr</th>\n",
       "      <th>Ibi_1</th>\n",
       "      <th>Ibi_2</th>\n",
       "      <th>Temp</th>\n",
       "      <th>Label</th>\n",
       "    </tr>\n",
       "  </thead>\n",
       "  <tbody>\n",
       "    <tr>\n",
       "      <th>count</th>\n",
       "      <td>261627.000000</td>\n",
       "      <td>261627.000000</td>\n",
       "      <td>261627.000000</td>\n",
       "      <td>2.616270e+05</td>\n",
       "      <td>261627.000000</td>\n",
       "      <td>261627.000000</td>\n",
       "      <td>261627.000000</td>\n",
       "      <td>261627.000000</td>\n",
       "      <td>261627.000000</td>\n",
       "      <td>261627.000000</td>\n",
       "      <td>261627.000000</td>\n",
       "    </tr>\n",
       "    <tr>\n",
       "      <th>mean</th>\n",
       "      <td>-27.915154</td>\n",
       "      <td>-2.895791</td>\n",
       "      <td>43.795938</td>\n",
       "      <td>1.645817e+09</td>\n",
       "      <td>-0.005221</td>\n",
       "      <td>0.769076</td>\n",
       "      <td>78.866308</td>\n",
       "      <td>2972.451239</td>\n",
       "      <td>0.811248</td>\n",
       "      <td>30.433959</td>\n",
       "      <td>0.499688</td>\n",
       "    </tr>\n",
       "    <tr>\n",
       "      <th>std</th>\n",
       "      <td>23.911173</td>\n",
       "      <td>15.257623</td>\n",
       "      <td>24.819808</td>\n",
       "      <td>8.062531e+05</td>\n",
       "      <td>74.020615</td>\n",
       "      <td>1.159553</td>\n",
       "      <td>13.785276</td>\n",
       "      <td>676.945605</td>\n",
       "      <td>0.165520</td>\n",
       "      <td>2.749680</td>\n",
       "      <td>0.500001</td>\n",
       "    </tr>\n",
       "    <tr>\n",
       "      <th>min</th>\n",
       "      <td>-128.000000</td>\n",
       "      <td>-111.000000</td>\n",
       "      <td>-95.000000</td>\n",
       "      <td>1.644228e+09</td>\n",
       "      <td>-1382.970000</td>\n",
       "      <td>0.000000</td>\n",
       "      <td>1.000000</td>\n",
       "      <td>11.843750</td>\n",
       "      <td>0.343750</td>\n",
       "      <td>4.000000</td>\n",
       "      <td>0.000000</td>\n",
       "    </tr>\n",
       "    <tr>\n",
       "      <th>25%</th>\n",
       "      <td>-46.000000</td>\n",
       "      <td>-11.000000</td>\n",
       "      <td>36.000000</td>\n",
       "      <td>1.645436e+09</td>\n",
       "      <td>-14.380000</td>\n",
       "      <td>0.166623</td>\n",
       "      <td>68.830000</td>\n",
       "      <td>3011.609375</td>\n",
       "      <td>0.703125</td>\n",
       "      <td>28.590000</td>\n",
       "      <td>0.000000</td>\n",
       "    </tr>\n",
       "    <tr>\n",
       "      <th>50%</th>\n",
       "      <td>-28.000000</td>\n",
       "      <td>-3.000000</td>\n",
       "      <td>55.000000</td>\n",
       "      <td>1.646052e+09</td>\n",
       "      <td>1.210000</td>\n",
       "      <td>0.296005</td>\n",
       "      <td>76.080000</td>\n",
       "      <td>3176.156250</td>\n",
       "      <td>0.796875</td>\n",
       "      <td>30.530000</td>\n",
       "      <td>0.000000</td>\n",
       "    </tr>\n",
       "    <tr>\n",
       "      <th>75%</th>\n",
       "      <td>-15.000000</td>\n",
       "      <td>4.000000</td>\n",
       "      <td>60.000000</td>\n",
       "      <td>1.646660e+09</td>\n",
       "      <td>15.960000</td>\n",
       "      <td>0.892142</td>\n",
       "      <td>86.050000</td>\n",
       "      <td>3299.843750</td>\n",
       "      <td>0.875000</td>\n",
       "      <td>32.150000</td>\n",
       "      <td>1.000000</td>\n",
       "    </tr>\n",
       "    <tr>\n",
       "      <th>max</th>\n",
       "      <td>93.000000</td>\n",
       "      <td>121.000000</td>\n",
       "      <td>127.000000</td>\n",
       "      <td>1.646842e+09</td>\n",
       "      <td>1822.090000</td>\n",
       "      <td>9.366458</td>\n",
       "      <td>146.780000</td>\n",
       "      <td>3542.312499</td>\n",
       "      <td>1.703125</td>\n",
       "      <td>36.390000</td>\n",
       "      <td>1.000000</td>\n",
       "    </tr>\n",
       "  </tbody>\n",
       "</table>\n",
       "</div>"
      ],
      "text/plain": [
       "               Acc_x          Acc_y          Acc_z     Time(sec)  \\\n",
       "count  261627.000000  261627.000000  261627.000000  2.616270e+05   \n",
       "mean      -27.915154      -2.895791      43.795938  1.645817e+09   \n",
       "std        23.911173      15.257623      24.819808  8.062531e+05   \n",
       "min      -128.000000    -111.000000     -95.000000  1.644228e+09   \n",
       "25%       -46.000000     -11.000000      36.000000  1.645436e+09   \n",
       "50%       -28.000000      -3.000000      55.000000  1.646052e+09   \n",
       "75%       -15.000000       4.000000      60.000000  1.646660e+09   \n",
       "max        93.000000     121.000000     127.000000  1.646842e+09   \n",
       "\n",
       "                 Bvp            Eda             Hr          Ibi_1  \\\n",
       "count  261627.000000  261627.000000  261627.000000  261627.000000   \n",
       "mean       -0.005221       0.769076      78.866308    2972.451239   \n",
       "std        74.020615       1.159553      13.785276     676.945605   \n",
       "min     -1382.970000       0.000000       1.000000      11.843750   \n",
       "25%       -14.380000       0.166623      68.830000    3011.609375   \n",
       "50%         1.210000       0.296005      76.080000    3176.156250   \n",
       "75%        15.960000       0.892142      86.050000    3299.843750   \n",
       "max      1822.090000       9.366458     146.780000    3542.312499   \n",
       "\n",
       "               Ibi_2           Temp          Label  \n",
       "count  261627.000000  261627.000000  261627.000000  \n",
       "mean        0.811248      30.433959       0.499688  \n",
       "std         0.165520       2.749680       0.500001  \n",
       "min         0.343750       4.000000       0.000000  \n",
       "25%         0.703125      28.590000       0.000000  \n",
       "50%         0.796875      30.530000       0.000000  \n",
       "75%         0.875000      32.150000       1.000000  \n",
       "max         1.703125      36.390000       1.000000  "
      ]
     },
     "execution_count": 30,
     "metadata": {},
     "output_type": "execute_result"
    }
   ],
   "source": [
    "# Obtain the summary statistics for numerical columns in explore_data DataFrame.\n",
    "explore_data.describe()"
   ]
  },
  {
   "cell_type": "markdown",
   "id": "cf7de7a8",
   "metadata": {},
   "source": [
    "# \n",
    "If the points in the plot roughly fall along a straight diagonal line, then the data is assumed to be normally distributed.\n",
    "However, the points on this plot clearly don’t fall along the red line, so we would not assume that this dataset is normally distributed."
   ]
  },
  {
   "cell_type": "markdown",
   "id": "2354ef69",
   "metadata": {},
   "source": [
    "### Find the correlation of each column in a DataFrame."
   ]
  },
  {
   "cell_type": "code",
   "execution_count": 31,
   "id": "a2c46bf4",
   "metadata": {},
   "outputs": [
    {
     "data": {
      "text/html": [
       "<div>\n",
       "<style scoped>\n",
       "    .dataframe tbody tr th:only-of-type {\n",
       "        vertical-align: middle;\n",
       "    }\n",
       "\n",
       "    .dataframe tbody tr th {\n",
       "        vertical-align: top;\n",
       "    }\n",
       "\n",
       "    .dataframe thead th {\n",
       "        text-align: right;\n",
       "    }\n",
       "</style>\n",
       "<table border=\"1\" class=\"dataframe\">\n",
       "  <thead>\n",
       "    <tr style=\"text-align: right;\">\n",
       "      <th></th>\n",
       "      <th>Acc_x</th>\n",
       "      <th>Acc_y</th>\n",
       "      <th>Acc_z</th>\n",
       "      <th>Time(sec)</th>\n",
       "      <th>Bvp</th>\n",
       "      <th>Eda</th>\n",
       "      <th>Hr</th>\n",
       "      <th>Ibi_1</th>\n",
       "      <th>Ibi_2</th>\n",
       "      <th>Temp</th>\n",
       "      <th>Label</th>\n",
       "    </tr>\n",
       "  </thead>\n",
       "  <tbody>\n",
       "    <tr>\n",
       "      <th>Acc_x</th>\n",
       "      <td>1.000000</td>\n",
       "      <td>0.209402</td>\n",
       "      <td>0.505147</td>\n",
       "      <td>0.037999</td>\n",
       "      <td>-0.003249</td>\n",
       "      <td>-0.071357</td>\n",
       "      <td>0.235419</td>\n",
       "      <td>-0.026621</td>\n",
       "      <td>-0.120111</td>\n",
       "      <td>-0.318988</td>\n",
       "      <td>0.006210</td>\n",
       "    </tr>\n",
       "    <tr>\n",
       "      <th>Acc_y</th>\n",
       "      <td>0.209402</td>\n",
       "      <td>1.000000</td>\n",
       "      <td>-0.038104</td>\n",
       "      <td>0.034341</td>\n",
       "      <td>0.003259</td>\n",
       "      <td>0.047915</td>\n",
       "      <td>0.007320</td>\n",
       "      <td>-0.114285</td>\n",
       "      <td>-0.102977</td>\n",
       "      <td>-0.230059</td>\n",
       "      <td>-0.019791</td>\n",
       "    </tr>\n",
       "    <tr>\n",
       "      <th>Acc_z</th>\n",
       "      <td>0.505147</td>\n",
       "      <td>-0.038104</td>\n",
       "      <td>1.000000</td>\n",
       "      <td>-0.064406</td>\n",
       "      <td>-0.008929</td>\n",
       "      <td>0.016306</td>\n",
       "      <td>0.001701</td>\n",
       "      <td>-0.008286</td>\n",
       "      <td>0.061042</td>\n",
       "      <td>-0.012480</td>\n",
       "      <td>0.016355</td>\n",
       "    </tr>\n",
       "    <tr>\n",
       "      <th>Time(sec)</th>\n",
       "      <td>0.037999</td>\n",
       "      <td>0.034341</td>\n",
       "      <td>-0.064406</td>\n",
       "      <td>1.000000</td>\n",
       "      <td>0.001271</td>\n",
       "      <td>-0.274457</td>\n",
       "      <td>0.019671</td>\n",
       "      <td>0.077614</td>\n",
       "      <td>-0.183420</td>\n",
       "      <td>-0.199242</td>\n",
       "      <td>0.007915</td>\n",
       "    </tr>\n",
       "    <tr>\n",
       "      <th>Bvp</th>\n",
       "      <td>-0.003249</td>\n",
       "      <td>0.003259</td>\n",
       "      <td>-0.008929</td>\n",
       "      <td>0.001271</td>\n",
       "      <td>1.000000</td>\n",
       "      <td>0.001736</td>\n",
       "      <td>-0.001256</td>\n",
       "      <td>-0.004384</td>\n",
       "      <td>-0.001435</td>\n",
       "      <td>-0.002987</td>\n",
       "      <td>-0.002059</td>\n",
       "    </tr>\n",
       "    <tr>\n",
       "      <th>Eda</th>\n",
       "      <td>-0.071357</td>\n",
       "      <td>0.047915</td>\n",
       "      <td>0.016306</td>\n",
       "      <td>-0.274457</td>\n",
       "      <td>0.001736</td>\n",
       "      <td>1.000000</td>\n",
       "      <td>0.069327</td>\n",
       "      <td>0.047323</td>\n",
       "      <td>0.046585</td>\n",
       "      <td>0.116853</td>\n",
       "      <td>0.007411</td>\n",
       "    </tr>\n",
       "    <tr>\n",
       "      <th>Hr</th>\n",
       "      <td>0.235419</td>\n",
       "      <td>0.007320</td>\n",
       "      <td>0.001701</td>\n",
       "      <td>0.019671</td>\n",
       "      <td>-0.001256</td>\n",
       "      <td>0.069327</td>\n",
       "      <td>1.000000</td>\n",
       "      <td>-0.014356</td>\n",
       "      <td>-0.504762</td>\n",
       "      <td>-0.382413</td>\n",
       "      <td>0.025427</td>\n",
       "    </tr>\n",
       "    <tr>\n",
       "      <th>Ibi_1</th>\n",
       "      <td>-0.026621</td>\n",
       "      <td>-0.114285</td>\n",
       "      <td>-0.008286</td>\n",
       "      <td>0.077614</td>\n",
       "      <td>-0.004384</td>\n",
       "      <td>0.047323</td>\n",
       "      <td>-0.014356</td>\n",
       "      <td>1.000000</td>\n",
       "      <td>0.086921</td>\n",
       "      <td>-0.037070</td>\n",
       "      <td>0.025815</td>\n",
       "    </tr>\n",
       "    <tr>\n",
       "      <th>Ibi_2</th>\n",
       "      <td>-0.120111</td>\n",
       "      <td>-0.102977</td>\n",
       "      <td>0.061042</td>\n",
       "      <td>-0.183420</td>\n",
       "      <td>-0.001435</td>\n",
       "      <td>0.046585</td>\n",
       "      <td>-0.504762</td>\n",
       "      <td>0.086921</td>\n",
       "      <td>1.000000</td>\n",
       "      <td>0.338833</td>\n",
       "      <td>-0.009102</td>\n",
       "    </tr>\n",
       "    <tr>\n",
       "      <th>Temp</th>\n",
       "      <td>-0.318988</td>\n",
       "      <td>-0.230059</td>\n",
       "      <td>-0.012480</td>\n",
       "      <td>-0.199242</td>\n",
       "      <td>-0.002987</td>\n",
       "      <td>0.116853</td>\n",
       "      <td>-0.382413</td>\n",
       "      <td>-0.037070</td>\n",
       "      <td>0.338833</td>\n",
       "      <td>1.000000</td>\n",
       "      <td>-0.005993</td>\n",
       "    </tr>\n",
       "    <tr>\n",
       "      <th>Label</th>\n",
       "      <td>0.006210</td>\n",
       "      <td>-0.019791</td>\n",
       "      <td>0.016355</td>\n",
       "      <td>0.007915</td>\n",
       "      <td>-0.002059</td>\n",
       "      <td>0.007411</td>\n",
       "      <td>0.025427</td>\n",
       "      <td>0.025815</td>\n",
       "      <td>-0.009102</td>\n",
       "      <td>-0.005993</td>\n",
       "      <td>1.000000</td>\n",
       "    </tr>\n",
       "  </tbody>\n",
       "</table>\n",
       "</div>"
      ],
      "text/plain": [
       "              Acc_x     Acc_y     Acc_z  Time(sec)       Bvp       Eda  \\\n",
       "Acc_x      1.000000  0.209402  0.505147   0.037999 -0.003249 -0.071357   \n",
       "Acc_y      0.209402  1.000000 -0.038104   0.034341  0.003259  0.047915   \n",
       "Acc_z      0.505147 -0.038104  1.000000  -0.064406 -0.008929  0.016306   \n",
       "Time(sec)  0.037999  0.034341 -0.064406   1.000000  0.001271 -0.274457   \n",
       "Bvp       -0.003249  0.003259 -0.008929   0.001271  1.000000  0.001736   \n",
       "Eda       -0.071357  0.047915  0.016306  -0.274457  0.001736  1.000000   \n",
       "Hr         0.235419  0.007320  0.001701   0.019671 -0.001256  0.069327   \n",
       "Ibi_1     -0.026621 -0.114285 -0.008286   0.077614 -0.004384  0.047323   \n",
       "Ibi_2     -0.120111 -0.102977  0.061042  -0.183420 -0.001435  0.046585   \n",
       "Temp      -0.318988 -0.230059 -0.012480  -0.199242 -0.002987  0.116853   \n",
       "Label      0.006210 -0.019791  0.016355   0.007915 -0.002059  0.007411   \n",
       "\n",
       "                 Hr     Ibi_1     Ibi_2      Temp     Label  \n",
       "Acc_x      0.235419 -0.026621 -0.120111 -0.318988  0.006210  \n",
       "Acc_y      0.007320 -0.114285 -0.102977 -0.230059 -0.019791  \n",
       "Acc_z      0.001701 -0.008286  0.061042 -0.012480  0.016355  \n",
       "Time(sec)  0.019671  0.077614 -0.183420 -0.199242  0.007915  \n",
       "Bvp       -0.001256 -0.004384 -0.001435 -0.002987 -0.002059  \n",
       "Eda        0.069327  0.047323  0.046585  0.116853  0.007411  \n",
       "Hr         1.000000 -0.014356 -0.504762 -0.382413  0.025427  \n",
       "Ibi_1     -0.014356  1.000000  0.086921 -0.037070  0.025815  \n",
       "Ibi_2     -0.504762  0.086921  1.000000  0.338833 -0.009102  \n",
       "Temp      -0.382413 -0.037070  0.338833  1.000000 -0.005993  \n",
       "Label      0.025427  0.025815 -0.009102 -0.005993  1.000000  "
      ]
     },
     "execution_count": 31,
     "metadata": {},
     "output_type": "execute_result"
    }
   ],
   "source": [
    "#checking the correlation of all attribute to dependent variable\n",
    "explore_data.corr()"
   ]
  },
  {
   "cell_type": "markdown",
   "id": "0362d47a",
   "metadata": {},
   "source": [
    "# \n",
    "From the above correlation table, determining stress is highly correlated with acc_x,acc_y, acc_z, bvp and hr.\n",
    "It shows that acceleration of motion of body along x axis, y axis and z axis along with Blood volume pressure and Heart-rate are the major factors of stress."
   ]
  },
  {
   "cell_type": "code",
   "execution_count": 32,
   "id": "5f99aa03",
   "metadata": {},
   "outputs": [
    {
     "data": {
      "text/plain": [
       "<AxesSubplot:>"
      ]
     },
     "execution_count": 32,
     "metadata": {},
     "output_type": "execute_result"
    },
    {
     "data": {
      "image/png": "[encoded data removed]",
      "text/plain": [
       "<Figure size 576x360 with 2 Axes>"
      ]
     },
     "metadata": {
      "needs_background": "light"
     },
     "output_type": "display_data"
    }
   ],
   "source": [
    "# Plotting the heatmap for correlation\n",
    "corr_matrix = explore_data.corr()\n",
    "plt.figure(figsize = (8, 5))\n",
    "sns.heatmap(corr_matrix, annot = True, linewidth = 0.5, fmt = \".2f\", cmap = \"YlGnBu\")"
   ]
  },
  {
   "cell_type": "markdown",
   "id": "81abb2b7",
   "metadata": {},
   "source": [
    "# Model Building"
   ]
  },
  {
   "cell_type": "markdown",
   "id": "109ef2c1",
   "metadata": {},
   "source": [
    "# Random Forest"
   ]
  },
  {
   "cell_type": "code",
   "execution_count": 38,
   "id": "03158d97",
   "metadata": {},
   "outputs": [
    {
     "data": {
      "text/plain": [
       "RandomForestClassifier(max_depth=2, random_state=0)"
      ]
     },
     "execution_count": 38,
     "metadata": {},
     "output_type": "execute_result"
    }
   ],
   "source": [
    "from sklearn.ensemble import RandomForestClassifier\n",
    "\n",
    "rdf = RandomForestClassifier(max_depth=2, random_state=0)\n",
    "rdf.fit(explore_data.drop({'Label','date'},axis = 1), explore_data['Label'])"
   ]
  },
  {
   "cell_type": "code",
   "execution_count": 39,
   "id": "066e15a4",
   "metadata": {},
   "outputs": [],
   "source": [
    "rdf_pred = rdf.predict(unexplore_data.drop({'Label','date'},axis = 1))"
   ]
  },
  {
   "cell_type": "code",
   "execution_count": 40,
   "id": "7c0bb35f",
   "metadata": {},
   "outputs": [
    {
     "name": "stdout",
     "output_type": "stream",
     "text": [
      "              precision    recall  f1-score   support\n",
      "\n",
      "           0       0.73      0.13      0.22     32622\n",
      "           1       0.52      0.95      0.68     32785\n",
      "\n",
      "    accuracy                           0.54     65407\n",
      "   macro avg       0.63      0.54      0.45     65407\n",
      "weighted avg       0.63      0.54      0.45     65407\n",
      "\n"
     ]
    }
   ],
   "source": [
    "from sklearn.metrics import classification_report\n",
    "\n",
    "print(classification_report(unexplore_data['Label'], rdf_pred))"
   ]
  },
  {
   "cell_type": "code",
   "execution_count": 45,
   "id": "0ce4bd7d",
   "metadata": {},
   "outputs": [
    {
     "data": {
      "text/plain": [
       "array([[ 4279, 28343],\n",
       "       [ 1560, 31225]], dtype=int64)"
      ]
     },
     "execution_count": 45,
     "metadata": {},
     "output_type": "execute_result"
    }
   ],
   "source": [
    "from sklearn.metrics import confusion_matrix, ConfusionMatrixDisplay\n",
    "\n",
    "cm = confusion_matrix(unexplore_data['Label'], rdf_pred)\n",
    "cm"
   ]
  },
  {
   "cell_type": "code",
   "execution_count": 46,
   "id": "a57858d1",
   "metadata": {},
   "outputs": [
    {
     "data": {
      "image/png": "[encoded data removed]",
      "text/plain": [
       "<Figure size 432x288 with 2 Axes>"
      ]
     },
     "metadata": {
      "needs_background": "light"
     },
     "output_type": "display_data"
    }
   ],
   "source": [
    "disp = ConfusionMatrixDisplay(confusion_matrix=cm)\n",
    "\n",
    "disp.plot()\n",
    "plt.show()"
   ]
  },
  {
   "cell_type": "markdown",
   "id": "220d9836",
   "metadata": {},
   "source": [
    "# Logistic Regression"
   ]
  },
  {
   "cell_type": "code",
   "execution_count": 48,
   "id": "cf7d1341",
   "metadata": {},
   "outputs": [],
   "source": [
    "from sklearn.linear_model import LogisticRegression\n",
    "\n",
    "lr = LogisticRegression(random_state=0).fit(explore_data.drop({'Label','date'},axis = 1), explore_data['Label'])\n",
    "lr_pred = lr.predict(unexplore_data.drop({'Label','date'},axis = 1))"
   ]
  },
  {
   "cell_type": "code",
   "execution_count": 49,
   "id": "9d3f9708",
   "metadata": {},
   "outputs": [
    {
     "name": "stdout",
     "output_type": "stream",
     "text": [
      "              precision    recall  f1-score   support\n",
      "\n",
      "           0       0.50      1.00      0.67     32622\n",
      "           1       0.00      0.00      0.00     32785\n",
      "\n",
      "    accuracy                           0.50     65407\n",
      "   macro avg       0.25      0.50      0.33     65407\n",
      "weighted avg       0.25      0.50      0.33     65407\n",
      "\n"
     ]
    }
   ],
   "source": [
    "print(classification_report(unexplore_data['Label'], lr_pred))"
   ]
  },
  {
   "cell_type": "code",
   "execution_count": 50,
   "id": "89696f3c",
   "metadata": {},
   "outputs": [
    {
     "data": {
      "text/plain": [
       "array([[32622,     0],\n",
       "       [32785,     0]], dtype=int64)"
      ]
     },
     "execution_count": 50,
     "metadata": {},
     "output_type": "execute_result"
    }
   ],
   "source": [
    "cm = confusion_matrix(unexplore_data['Label'], lr_pred)\n",
    "cm"
   ]
  },
  {
   "cell_type": "code",
   "execution_count": 51,
   "id": "30f68e33",
   "metadata": {},
   "outputs": [
    {
     "data": {
      "image/png": "[encoded data removed]",
      "text/plain": [
       "<Figure size 432x288 with 2 Axes>"
      ]
     },
     "metadata": {
      "needs_background": "light"
     },
     "output_type": "display_data"
    }
   ],
   "source": [
    "disp = ConfusionMatrixDisplay(confusion_matrix=cm)\n",
    "\n",
    "disp.plot()\n",
    "plt.show()"
   ]
  },
  {
   "cell_type": "markdown",
   "id": "7907b188",
   "metadata": {},
   "source": [
    "# Naive bayes"
   ]
  },
  {
   "cell_type": "code",
   "execution_count": 52,
   "id": "10db0ba5",
   "metadata": {},
   "outputs": [],
   "source": [
    "from sklearn.naive_bayes import GaussianNB\n",
    "\n",
    "gnb = GaussianNB().fit(explore_data.drop({'Label','date'},axis = 1), explore_data['Label'])\n",
    "\n",
    "gnb_pred = gnb.predict(unexplore_data.drop({'Label','date'},axis = 1))"
   ]
  },
  {
   "cell_type": "code",
   "execution_count": 53,
   "id": "8323ad48",
   "metadata": {},
   "outputs": [
    {
     "name": "stdout",
     "output_type": "stream",
     "text": [
      "              precision    recall  f1-score   support\n",
      "\n",
      "           0       0.50      0.13      0.21     32622\n",
      "           1       0.50      0.87      0.64     32785\n",
      "\n",
      "    accuracy                           0.50     65407\n",
      "   macro avg       0.50      0.50      0.42     65407\n",
      "weighted avg       0.50      0.50      0.42     65407\n",
      "\n"
     ]
    }
   ],
   "source": [
    "print(classification_report(unexplore_data['Label'], gnb_pred))"
   ]
  },
  {
   "cell_type": "code",
   "execution_count": 54,
   "id": "4b30ac39",
   "metadata": {},
   "outputs": [
    {
     "data": {
      "text/plain": [
       "array([[ 4325, 28297],\n",
       "       [ 4294, 28491]], dtype=int64)"
      ]
     },
     "execution_count": 54,
     "metadata": {},
     "output_type": "execute_result"
    }
   ],
   "source": [
    "cm = confusion_matrix(unexplore_data['Label'], gnb_pred)\n",
    "cm"
   ]
  },
  {
   "cell_type": "code",
   "execution_count": 55,
   "id": "76204414",
   "metadata": {},
   "outputs": [
    {
     "data": {
      "image/png": "[encoded data removed]",
      "text/plain": [
       "<Figure size 432x288 with 2 Axes>"
      ]
     },
     "metadata": {
      "needs_background": "light"
     },
     "output_type": "display_data"
    }
   ],
   "source": [
    "disp = ConfusionMatrixDisplay(confusion_matrix=cm)\n",
    "\n",
    "disp.plot()\n",
    "plt.show()"
   ]
  },
  {
   "cell_type": "markdown",
   "id": "bd6c5499",
   "metadata": {},
   "source": [
    "# Ada Boost"
   ]
  },
  {
   "cell_type": "code",
   "execution_count": 57,
   "id": "0f51def2",
   "metadata": {},
   "outputs": [],
   "source": [
    "from sklearn.ensemble import AdaBoostClassifier\n",
    "\n",
    "ada = AdaBoostClassifier(n_estimators=10, random_state=0)\n",
    "ada.fit(explore_data.drop({'Label','date'},axis = 1), explore_data['Label'])\n",
    "\n",
    "ada_pred = ada.predict(unexplore_data.drop({'Label','date'},axis = 1))"
   ]
  },
  {
   "cell_type": "code",
   "execution_count": 58,
   "id": "327c23b4",
   "metadata": {},
   "outputs": [
    {
     "name": "stdout",
     "output_type": "stream",
     "text": [
      "              precision    recall  f1-score   support\n",
      "\n",
      "           0       0.87      0.11      0.19     32622\n",
      "           1       0.53      0.98      0.69     32785\n",
      "\n",
      "    accuracy                           0.55     65407\n",
      "   macro avg       0.70      0.55      0.44     65407\n",
      "weighted avg       0.70      0.55      0.44     65407\n",
      "\n"
     ]
    }
   ],
   "source": [
    "print(classification_report(unexplore_data['Label'], ada_pred))"
   ]
  },
  {
   "cell_type": "code",
   "execution_count": 59,
   "id": "2347f9c1",
   "metadata": {},
   "outputs": [
    {
     "data": {
      "text/plain": [
       "array([[ 3563, 29059],\n",
       "       [  534, 32251]], dtype=int64)"
      ]
     },
     "execution_count": 59,
     "metadata": {},
     "output_type": "execute_result"
    }
   ],
   "source": [
    "cm = confusion_matrix(unexplore_data['Label'], ada_pred)\n",
    "cm"
   ]
  },
  {
   "cell_type": "code",
   "execution_count": 60,
   "id": "0ffe611e",
   "metadata": {},
   "outputs": [
    {
     "data": {
      "image/png": "[encoded data removed]",
      "text/plain": [
       "<Figure size 432x288 with 2 Axes>"
      ]
     },
     "metadata": {
      "needs_background": "light"
     },
     "output_type": "display_data"
    }
   ],
   "source": [
    "disp = ConfusionMatrixDisplay(confusion_matrix=cm)\n",
    "\n",
    "disp.plot()\n",
    "plt.show()"
   ]
  },
  {
   "cell_type": "code",
   "execution_count": null,
   "id": "371cd1c9",
   "metadata": {},
   "outputs": [],
   "source": []
  }
 ],
 "metadata": {
  "kernelspec": {
   "display_name": "Python 3 (ipykernel)",
   "language": "python",
   "name": "python3"
  },
  "language_info": {
   "codemirror_mode": {
    "name": "ipython",
    "version": 3
   },
   "file_extension": ".py",
   "mimetype": "text/x-python",
   "name": "python",
   "nbconvert_exporter": "python",
   "pygments_lexer": "ipython3",
   "version": "3.9.12"
  }
 },
 "nbformat": 4,
 "nbformat_minor": 5
}
